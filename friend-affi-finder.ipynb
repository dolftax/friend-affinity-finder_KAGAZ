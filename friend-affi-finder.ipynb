{
 "cells": [
  {
   "cell_type": "code",
   "execution_count": 15,
   "metadata": {},
   "outputs": [],
   "source": [
    "import requests\n",
    "import json"
   ]
  },
  {
   "cell_type": "code",
   "execution_count": 8,
   "metadata": {},
   "outputs": [],
   "source": [
    "postsurl = \"https://graph.facebook.com/v3.3/me?fields=posts&access_token=EAAQIgVzxxvsBAFez16Sv1pLgVO1laBfDvNAclAYi1t9OojOdiFoZAZBtJVOlvsR1tsXm10OGwmPe16RGw7RJuBdxWCUqIMq6QIOlVTvxZBuwnUIG6mil1b1ewUox5FSitJ0owEONkNTpjXRMZAbj1sSZCPffD5UIZCQwN4E2uZCKkySEZABCqvNrll3OTrJdlk0ZD\""
   ]
  },
  {
   "cell_type": "code",
   "execution_count": 9,
   "metadata": {},
   "outputs": [],
   "source": [
    "posts = requests.get(postsurl)"
   ]
  },
  {
   "cell_type": "code",
   "execution_count": 10,
   "metadata": {},
   "outputs": [
    {
     "data": {
      "text/plain": [
       "<Response [200]>"
      ]
     },
     "execution_count": 10,
     "metadata": {},
     "output_type": "execute_result"
    }
   ],
   "source": [
    "posts"
   ]
  },
  {
   "cell_type": "code",
   "execution_count": 11,
   "metadata": {},
   "outputs": [
    {
     "name": "stdout",
     "output_type": "stream",
     "text": [
      "<Response [200]>\n"
     ]
    }
   ],
   "source": [
    "print(posts)"
   ]
  },
  {
   "cell_type": "code",
   "execution_count": 12,
   "metadata": {},
   "outputs": [
    {
     "data": {
      "text/plain": [
       "requests.models.Response"
      ]
     },
     "execution_count": 12,
     "metadata": {},
     "output_type": "execute_result"
    }
   ],
   "source": [
    "type(posts)"
   ]
  },
  {
   "cell_type": "code",
   "execution_count": 13,
   "metadata": {},
   "outputs": [
    {
     "data": {
      "text/plain": [
       "'{\"posts\":{\"data\":[{\"message\":\"Samsung SSD\\\\n#PCAgeCalculator\",\"created_time\":\"2019-02-23T06:05:00+0000\",\"id\":\"427814738066052_359992448181615\"},{\"message\":\"made my day ..... !\",\"created_time\":\"2018-10-29T17:14:25+0000\",\"id\":\"427814738066052_292783098235884\"},{\"created_time\":\"2018-10-24T12:48:46+0000\",\"id\":\"427814738066052_289819961865531\"},{\"message\":\"well both ! \\\\ud83e\\\\udd14\\\\nwhen you are exited for the money \\\\ud83e\\\\udd11\\\\ud83e\\\\udd11you don\\'t have \\\\nwhich makes you anxious !! \\\\ud83d\\\\ude02\\\\ud83d\\\\ude02\",\"created_time\":\"2018-10-19T16:57:07+0000\",\"id\":\"427814738066052_287139162133611\"},{\"created_time\":\"2018-10-17T05:41:52+0000\",\"id\":\"427814738066052_285730482274479\"},{\"message\":\"this video wants to be seen guys !\",\"created_time\":\"2018-10-13T16:17:49+0000\",\"id\":\"427814738066052_283946235786237\"},{\"message\":\"Well this is great !!!\",\"created_time\":\"2018-10-12T19:07:30+0000\",\"id\":\"427814738066052_283488622498665\"},{\"created_time\":\"2018-10-09T20:49:16+0000\",\"id\":\"427814738066052_281891449325049\"},{\"message\":\"this is hilarious !! \\\\ud83d\\\\ude03\\\\ud83d\\\\ude03\",\"created_time\":\"2018-10-07T13:47:48+0000\",\"id\":\"427814738066052_280541512793376\"},{\"created_time\":\"2018-10-04T08:46:28+0000\",\"id\":\"427814738066052_278820046298856\"},{\"created_time\":\"2018-10-02T14:08:44+0000\",\"id\":\"427814738066052_277932396387621\"},{\"created_time\":\"2018-10-02T06:48:18+0000\",\"id\":\"427814738066052_277731149741079\"},{\"created_time\":\"2018-09-30T13:45:45+0000\",\"id\":\"427814738066052_276872303160297\"},{\"created_time\":\"2018-09-30T12:51:06+0000\",\"id\":\"427814738066052_276847676496093\"},{\"created_time\":\"2018-09-30T03:02:36+0000\",\"id\":\"427814738066052_276661026514758\"},{\"created_time\":\"2018-09-25T17:57:04+0000\",\"id\":\"427814738066052_274545796726281\"},{\"created_time\":\"2018-09-24T10:17:52+0000\",\"id\":\"427814738066052_273815833465944\"},{\"created_time\":\"2018-09-24T10:17:42+0000\",\"id\":\"427814738066052_273815766799284\"},{\"created_time\":\"2018-09-24T07:14:34+0000\",\"id\":\"427814738066052_273743276806533\"},{\"message\":\"bored .. ? \\\\ud83d\\\\ude40\\\\nnuts ...! \\\\ud83e\\\\udd5c\\\\ud83e\\\\udd5c\\\\ud83e\\\\udd5c\\\\ud83d\\\\udc3f\\\\ufe0f \\\\u0040 Mysore, Karnataka\",\"created_time\":\"2018-09-23T08:14:36+0000\",\"id\":\"427814738066052_273246483522879\"},{\"created_time\":\"2018-09-23T07:01:05+0000\",\"id\":\"427814738066052_273222250191969\"},{\"message\":\"Sure af !!\",\"created_time\":\"2018-09-22T06:00:13+0000\",\"id\":\"427814738066052_272677846913076\"},{\"created_time\":\"2018-09-18T15:46:05+0000\",\"id\":\"427814738066052_270878667092994\"},{\"message\":\"\\\\ud83d\\\\ude02\\\\ud83d\\\\ude02\\\\ud83d\\\\ude02\",\"created_time\":\"2018-09-14T19:22:07+0000\",\"id\":\"427814738066052_268846103962917\"},{\"created_time\":\"2018-09-01T03:37:51+0000\",\"id\":\"427814738066052_260895364757991\"}],\"paging\":{\"previous\":\"https:\\\\/\\\\/graph.facebook.com\\\\/v3.3\\\\/427814738066052\\\\/posts?since=1550901900&access_token=EAAQIgVzxxvsBAFez16Sv1pLgVO1laBfDvNAclAYi1t9OojOdiFoZAZBtJVOlvsR1tsXm10OGwmPe16RGw7RJuBdxWCUqIMq6QIOlVTvxZBuwnUIG6mil1b1ewUox5FSitJ0owEONkNTpjXRMZAbj1sSZCPffD5UIZCQwN4E2uZCKkySEZABCqvNrll3OTrJdlk0ZD&limit=25&__paging_token=enc_AdBLOEqHa08zPbwZB6smvJ8dR4191Kn3YIr5sGZBOtaATJ9GeYrFgmQYEvvouYjkE7Livt0ZAVPXs9yAaxSLVRZB8ftjW7l4AwWQqOmqhNiaHdZBKfgZDZD&__previous=1\",\"next\":\"https:\\\\/\\\\/graph.facebook.com\\\\/v3.3\\\\/427814738066052\\\\/posts?access_token=EAAQIgVzxxvsBAFez16Sv1pLgVO1laBfDvNAclAYi1t9OojOdiFoZAZBtJVOlvsR1tsXm10OGwmPe16RGw7RJuBdxWCUqIMq6QIOlVTvxZBuwnUIG6mil1b1ewUox5FSitJ0owEONkNTpjXRMZAbj1sSZCPffD5UIZCQwN4E2uZCKkySEZABCqvNrll3OTrJdlk0ZD&limit=25&until=1535773071&__paging_token=enc_AdDACdG4jY84aSZBp8gWlKMTQNgFQHnPVWrYcZA2ddoH8vKyOWkQMCGoZCsImgAiztP3YmOCnm39eAA9QE6uuPHQRw4qjN3yGu6kLZAtn0eEi3dmsgZDZD\"}},\"id\":\"427814738066052\"}'"
      ]
     },
     "execution_count": 13,
     "metadata": {},
     "output_type": "execute_result"
    }
   ],
   "source": [
    "posts.text"
   ]
  },
  {
   "cell_type": "code",
   "execution_count": 17,
   "metadata": {},
   "outputs": [],
   "source": [
    "posts_dict = json.loads(posts.text)"
   ]
  },
  {
   "cell_type": "code",
   "execution_count": 18,
   "metadata": {},
   "outputs": [
    {
     "data": {
      "text/plain": [
       "{'id': '427814738066052',\n",
       " 'posts': {'data': [{'created_time': '2019-02-23T06:05:00+0000',\n",
       "    'id': '427814738066052_359992448181615',\n",
       "    'message': 'Samsung SSD\\n#PCAgeCalculator'},\n",
       "   {'created_time': '2018-10-29T17:14:25+0000',\n",
       "    'id': '427814738066052_292783098235884',\n",
       "    'message': 'made my day ..... !'},\n",
       "   {'created_time': '2018-10-24T12:48:46+0000',\n",
       "    'id': '427814738066052_289819961865531'},\n",
       "   {'created_time': '2018-10-19T16:57:07+0000',\n",
       "    'id': '427814738066052_287139162133611',\n",
       "    'message': \"well both ! 🤔\\nwhen you are exited for the money 🤑🤑you don't have \\nwhich makes you anxious !! 😂😂\"},\n",
       "   {'created_time': '2018-10-17T05:41:52+0000',\n",
       "    'id': '427814738066052_285730482274479'},\n",
       "   {'created_time': '2018-10-13T16:17:49+0000',\n",
       "    'id': '427814738066052_283946235786237',\n",
       "    'message': 'this video wants to be seen guys !'},\n",
       "   {'created_time': '2018-10-12T19:07:30+0000',\n",
       "    'id': '427814738066052_283488622498665',\n",
       "    'message': 'Well this is great !!!'},\n",
       "   {'created_time': '2018-10-09T20:49:16+0000',\n",
       "    'id': '427814738066052_281891449325049'},\n",
       "   {'created_time': '2018-10-07T13:47:48+0000',\n",
       "    'id': '427814738066052_280541512793376',\n",
       "    'message': 'this is hilarious !! 😃😃'},\n",
       "   {'created_time': '2018-10-04T08:46:28+0000',\n",
       "    'id': '427814738066052_278820046298856'},\n",
       "   {'created_time': '2018-10-02T14:08:44+0000',\n",
       "    'id': '427814738066052_277932396387621'},\n",
       "   {'created_time': '2018-10-02T06:48:18+0000',\n",
       "    'id': '427814738066052_277731149741079'},\n",
       "   {'created_time': '2018-09-30T13:45:45+0000',\n",
       "    'id': '427814738066052_276872303160297'},\n",
       "   {'created_time': '2018-09-30T12:51:06+0000',\n",
       "    'id': '427814738066052_276847676496093'},\n",
       "   {'created_time': '2018-09-30T03:02:36+0000',\n",
       "    'id': '427814738066052_276661026514758'},\n",
       "   {'created_time': '2018-09-25T17:57:04+0000',\n",
       "    'id': '427814738066052_274545796726281'},\n",
       "   {'created_time': '2018-09-24T10:17:52+0000',\n",
       "    'id': '427814738066052_273815833465944'},\n",
       "   {'created_time': '2018-09-24T10:17:42+0000',\n",
       "    'id': '427814738066052_273815766799284'},\n",
       "   {'created_time': '2018-09-24T07:14:34+0000',\n",
       "    'id': '427814738066052_273743276806533'},\n",
       "   {'created_time': '2018-09-23T08:14:36+0000',\n",
       "    'id': '427814738066052_273246483522879',\n",
       "    'message': 'bored .. ? 🙀\\nnuts ...! \\U0001f95c\\U0001f95c\\U0001f95c🐿️ @ Mysore, Karnataka'},\n",
       "   {'created_time': '2018-09-23T07:01:05+0000',\n",
       "    'id': '427814738066052_273222250191969'},\n",
       "   {'created_time': '2018-09-22T06:00:13+0000',\n",
       "    'id': '427814738066052_272677846913076',\n",
       "    'message': 'Sure af !!'},\n",
       "   {'created_time': '2018-09-18T15:46:05+0000',\n",
       "    'id': '427814738066052_270878667092994'},\n",
       "   {'created_time': '2018-09-14T19:22:07+0000',\n",
       "    'id': '427814738066052_268846103962917',\n",
       "    'message': '😂😂😂'},\n",
       "   {'created_time': '2018-09-01T03:37:51+0000',\n",
       "    'id': '427814738066052_260895364757991'}],\n",
       "  'paging': {'next': 'https://graph.facebook.com/v3.3/427814738066052/posts?access_token=EAAQIgVzxxvsBAFez16Sv1pLgVO1laBfDvNAclAYi1t9OojOdiFoZAZBtJVOlvsR1tsXm10OGwmPe16RGw7RJuBdxWCUqIMq6QIOlVTvxZBuwnUIG6mil1b1ewUox5FSitJ0owEONkNTpjXRMZAbj1sSZCPffD5UIZCQwN4E2uZCKkySEZABCqvNrll3OTrJdlk0ZD&limit=25&until=1535773071&__paging_token=enc_AdDACdG4jY84aSZBp8gWlKMTQNgFQHnPVWrYcZA2ddoH8vKyOWkQMCGoZCsImgAiztP3YmOCnm39eAA9QE6uuPHQRw4qjN3yGu6kLZAtn0eEi3dmsgZDZD',\n",
       "   'previous': 'https://graph.facebook.com/v3.3/427814738066052/posts?since=1550901900&access_token=EAAQIgVzxxvsBAFez16Sv1pLgVO1laBfDvNAclAYi1t9OojOdiFoZAZBtJVOlvsR1tsXm10OGwmPe16RGw7RJuBdxWCUqIMq6QIOlVTvxZBuwnUIG6mil1b1ewUox5FSitJ0owEONkNTpjXRMZAbj1sSZCPffD5UIZCQwN4E2uZCKkySEZABCqvNrll3OTrJdlk0ZD&limit=25&__paging_token=enc_AdBLOEqHa08zPbwZB6smvJ8dR4191Kn3YIr5sGZBOtaATJ9GeYrFgmQYEvvouYjkE7Livt0ZAVPXs9yAaxSLVRZB8ftjW7l4AwWQqOmqhNiaHdZBKfgZDZD&__previous=1'}}}"
      ]
     },
     "execution_count": 18,
     "metadata": {},
     "output_type": "execute_result"
    }
   ],
   "source": [
    "posts_dict"
   ]
  },
  {
   "cell_type": "code",
   "execution_count": null,
   "metadata": {},
   "outputs": [],
   "source": []
  }
 ],
 "metadata": {
  "kernelspec": {
   "display_name": "Python 3",
   "language": "python",
   "name": "python3"
  },
  "language_info": {
   "codemirror_mode": {
    "name": "ipython",
    "version": 3
   },
   "file_extension": ".py",
   "mimetype": "text/x-python",
   "name": "python",
   "nbconvert_exporter": "python",
   "pygments_lexer": "ipython3",
   "version": "3.5.3"
  }
 },
 "nbformat": 4,
 "nbformat_minor": 2
}
