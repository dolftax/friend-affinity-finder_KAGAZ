{
 "cells": [
  {
   "cell_type": "code",
   "execution_count": 43,
   "metadata": {},
   "outputs": [],
   "source": [
    "import requests\n",
    "import json\n",
    "accToken = \"EAAQIgVzxxvsBAA0nCQZArJoyGCe6aQJ5nAUZBy52tMzY33ZAfgBgI3ub2sH17kRUARa6hQkZAOM1awNk125EThKtQkjSHjdMVZBM6fKURWn8Q2ZCaPfX1TqOKEQ399mi3a88joV9wXzIFijFFZAXJTVC1MjYBVCHZB5kkVNxMAiGOdf0roZBbWT9ukTltmqyatRkZD\"\n",
    "postUrl = \"https://graph.facebook.com/v3.3/me?fields=posts&access_token=\" + acc_token"
   ]
  },
  {
   "cell_type": "code",
   "execution_count": 44,
   "metadata": {},
   "outputs": [],
   "source": [
    "postUrl = \"https://graph.facebook.com/v3.3/me?fields=posts&access_token=\" + accToken"
   ]
  },
  {
   "cell_type": "code",
   "execution_count": 45,
   "metadata": {},
   "outputs": [],
   "source": [
    "postResp = requests.get(postUrl)\n",
    "postDict = json.loads(postResp.text)"
   ]
  },
  {
   "cell_type": "code",
   "execution_count": 47,
   "metadata": {},
   "outputs": [
    {
     "data": {
      "text/plain": [
       "dict_keys(['posts', 'id'])"
      ]
     },
     "execution_count": 47,
     "metadata": {},
     "output_type": "execute_result"
    }
   ],
   "source": [
    "postDict.keys()"
   ]
  },
  {
   "cell_type": "code",
   "execution_count": 48,
   "metadata": {},
   "outputs": [
    {
     "data": {
      "text/plain": [
       "'427814738066052'"
      ]
     },
     "execution_count": 48,
     "metadata": {},
     "output_type": "execute_result"
    }
   ],
   "source": [
    "postDict['id']"
   ]
  },
  {
   "cell_type": "code",
   "execution_count": 49,
   "metadata": {},
   "outputs": [
    {
     "data": {
      "text/plain": [
       "{'data': [{'created_time': '2019-02-23T06:05:00+0000',\n",
       "   'id': '427814738066052_359992448181615',\n",
       "   'message': 'Samsung SSD\\n#PCAgeCalculator'},\n",
       "  {'created_time': '2018-10-29T17:14:25+0000',\n",
       "   'id': '427814738066052_292783098235884',\n",
       "   'message': 'made my day ..... !'},\n",
       "  {'created_time': '2018-10-24T12:48:46+0000',\n",
       "   'id': '427814738066052_289819961865531'},\n",
       "  {'created_time': '2018-10-19T16:57:07+0000',\n",
       "   'id': '427814738066052_287139162133611',\n",
       "   'message': \"well both ! 🤔\\nwhen you are exited for the money 🤑🤑you don't have \\nwhich makes you anxious !! 😂😂\"},\n",
       "  {'created_time': '2018-10-17T05:41:52+0000',\n",
       "   'id': '427814738066052_285730482274479'},\n",
       "  {'created_time': '2018-10-13T16:17:49+0000',\n",
       "   'id': '427814738066052_283946235786237',\n",
       "   'message': 'this video wants to be seen guys !'},\n",
       "  {'created_time': '2018-10-12T19:07:30+0000',\n",
       "   'id': '427814738066052_283488622498665',\n",
       "   'message': 'Well this is great !!!'},\n",
       "  {'created_time': '2018-10-09T20:49:16+0000',\n",
       "   'id': '427814738066052_281891449325049'},\n",
       "  {'created_time': '2018-10-07T13:47:48+0000',\n",
       "   'id': '427814738066052_280541512793376',\n",
       "   'message': 'this is hilarious !! 😃😃'},\n",
       "  {'created_time': '2018-10-04T08:46:28+0000',\n",
       "   'id': '427814738066052_278820046298856'},\n",
       "  {'created_time': '2018-10-02T14:08:44+0000',\n",
       "   'id': '427814738066052_277932396387621'},\n",
       "  {'created_time': '2018-10-02T06:48:18+0000',\n",
       "   'id': '427814738066052_277731149741079'},\n",
       "  {'created_time': '2018-09-30T13:45:45+0000',\n",
       "   'id': '427814738066052_276872303160297'},\n",
       "  {'created_time': '2018-09-30T12:51:06+0000',\n",
       "   'id': '427814738066052_276847676496093'},\n",
       "  {'created_time': '2018-09-30T03:02:36+0000',\n",
       "   'id': '427814738066052_276661026514758'},\n",
       "  {'created_time': '2018-09-25T17:57:04+0000',\n",
       "   'id': '427814738066052_274545796726281'},\n",
       "  {'created_time': '2018-09-24T10:17:52+0000',\n",
       "   'id': '427814738066052_273815833465944'},\n",
       "  {'created_time': '2018-09-24T10:17:42+0000',\n",
       "   'id': '427814738066052_273815766799284'},\n",
       "  {'created_time': '2018-09-24T07:14:34+0000',\n",
       "   'id': '427814738066052_273743276806533'},\n",
       "  {'created_time': '2018-09-23T08:14:36+0000',\n",
       "   'id': '427814738066052_273246483522879',\n",
       "   'message': 'bored .. ? 🙀\\nnuts ...! \\U0001f95c\\U0001f95c\\U0001f95c🐿️ @ Mysore, Karnataka'},\n",
       "  {'created_time': '2018-09-23T07:01:05+0000',\n",
       "   'id': '427814738066052_273222250191969'},\n",
       "  {'created_time': '2018-09-22T06:00:13+0000',\n",
       "   'id': '427814738066052_272677846913076',\n",
       "   'message': 'Sure af !!'},\n",
       "  {'created_time': '2018-09-18T15:46:05+0000',\n",
       "   'id': '427814738066052_270878667092994'},\n",
       "  {'created_time': '2018-09-14T19:22:07+0000',\n",
       "   'id': '427814738066052_268846103962917',\n",
       "   'message': '😂😂😂'},\n",
       "  {'created_time': '2018-09-01T03:37:51+0000',\n",
       "   'id': '427814738066052_260895364757991'}],\n",
       " 'paging': {'next': 'https://graph.facebook.com/v3.3/427814738066052/posts?access_token=EAAQIgVzxxvsBAA0nCQZArJoyGCe6aQJ5nAUZBy52tMzY33ZAfgBgI3ub2sH17kRUARa6hQkZAOM1awNk125EThKtQkjSHjdMVZBM6fKURWn8Q2ZCaPfX1TqOKEQ399mi3a88joV9wXzIFijFFZAXJTVC1MjYBVCHZB5kkVNxMAiGOdf0roZBbWT9ukTltmqyatRkZD&limit=25&until=1535773071&__paging_token=enc_AdDACdG4jY84aSZBp8gWlKMTQNgFQHnPVWrYcZA2ddoH8vKyOWkQMCGoZCsImgAiztP3YmOCnm39eAA9QE6uuPHQRw4qjN3yGu6kLZAtn0eEi3dmsgZDZD',\n",
       "  'previous': 'https://graph.facebook.com/v3.3/427814738066052/posts?since=1550901900&access_token=EAAQIgVzxxvsBAA0nCQZArJoyGCe6aQJ5nAUZBy52tMzY33ZAfgBgI3ub2sH17kRUARa6hQkZAOM1awNk125EThKtQkjSHjdMVZBM6fKURWn8Q2ZCaPfX1TqOKEQ399mi3a88joV9wXzIFijFFZAXJTVC1MjYBVCHZB5kkVNxMAiGOdf0roZBbWT9ukTltmqyatRkZD&limit=25&__paging_token=enc_AdBLOEqHa08zPbwZB6smvJ8dR4191Kn3YIr5sGZBOtaATJ9GeYrFgmQYEvvouYjkE7Livt0ZAVPXs9yAaxSLVRZB8ftjW7l4AwWQqOmqhNiaHdZBKfgZDZD&__previous=1'}}"
      ]
     },
     "execution_count": 49,
     "metadata": {},
     "output_type": "execute_result"
    }
   ],
   "source": [
    "postDict['posts']"
   ]
  },
  {
   "cell_type": "code",
   "execution_count": 50,
   "metadata": {},
   "outputs": [
    {
     "data": {
      "text/plain": [
       "dict"
      ]
     },
     "execution_count": 50,
     "metadata": {},
     "output_type": "execute_result"
    }
   ],
   "source": [
    "type(postDict['posts'])"
   ]
  },
  {
   "cell_type": "code",
   "execution_count": 62,
   "metadata": {},
   "outputs": [],
   "source": [
    "post_list = postDict['posts']['data']"
   ]
  },
  {
   "cell_type": "code",
   "execution_count": 64,
   "metadata": {},
   "outputs": [
    {
     "data": {
      "text/plain": [
       "list"
      ]
     },
     "execution_count": 64,
     "metadata": {},
     "output_type": "execute_result"
    }
   ],
   "source": [
    "type(post_list)\n"
   ]
  },
  {
   "cell_type": "code",
   "execution_count": 66,
   "metadata": {},
   "outputs": [
    {
     "data": {
      "text/plain": [
       "[{'created_time': '2019-02-23T06:05:00+0000',\n",
       "  'id': '427814738066052_359992448181615',\n",
       "  'message': 'Samsung SSD\\n#PCAgeCalculator'},\n",
       " {'created_time': '2018-10-29T17:14:25+0000',\n",
       "  'id': '427814738066052_292783098235884',\n",
       "  'message': 'made my day ..... !'},\n",
       " {'created_time': '2018-10-24T12:48:46+0000',\n",
       "  'id': '427814738066052_289819961865531'},\n",
       " {'created_time': '2018-10-19T16:57:07+0000',\n",
       "  'id': '427814738066052_287139162133611',\n",
       "  'message': \"well both ! 🤔\\nwhen you are exited for the money 🤑🤑you don't have \\nwhich makes you anxious !! 😂😂\"},\n",
       " {'created_time': '2018-10-17T05:41:52+0000',\n",
       "  'id': '427814738066052_285730482274479'},\n",
       " {'created_time': '2018-10-13T16:17:49+0000',\n",
       "  'id': '427814738066052_283946235786237',\n",
       "  'message': 'this video wants to be seen guys !'},\n",
       " {'created_time': '2018-10-12T19:07:30+0000',\n",
       "  'id': '427814738066052_283488622498665',\n",
       "  'message': 'Well this is great !!!'},\n",
       " {'created_time': '2018-10-09T20:49:16+0000',\n",
       "  'id': '427814738066052_281891449325049'},\n",
       " {'created_time': '2018-10-07T13:47:48+0000',\n",
       "  'id': '427814738066052_280541512793376',\n",
       "  'message': 'this is hilarious !! 😃😃'},\n",
       " {'created_time': '2018-10-04T08:46:28+0000',\n",
       "  'id': '427814738066052_278820046298856'},\n",
       " {'created_time': '2018-10-02T14:08:44+0000',\n",
       "  'id': '427814738066052_277932396387621'},\n",
       " {'created_time': '2018-10-02T06:48:18+0000',\n",
       "  'id': '427814738066052_277731149741079'},\n",
       " {'created_time': '2018-09-30T13:45:45+0000',\n",
       "  'id': '427814738066052_276872303160297'},\n",
       " {'created_time': '2018-09-30T12:51:06+0000',\n",
       "  'id': '427814738066052_276847676496093'},\n",
       " {'created_time': '2018-09-30T03:02:36+0000',\n",
       "  'id': '427814738066052_276661026514758'},\n",
       " {'created_time': '2018-09-25T17:57:04+0000',\n",
       "  'id': '427814738066052_274545796726281'},\n",
       " {'created_time': '2018-09-24T10:17:52+0000',\n",
       "  'id': '427814738066052_273815833465944'},\n",
       " {'created_time': '2018-09-24T10:17:42+0000',\n",
       "  'id': '427814738066052_273815766799284'},\n",
       " {'created_time': '2018-09-24T07:14:34+0000',\n",
       "  'id': '427814738066052_273743276806533'},\n",
       " {'created_time': '2018-09-23T08:14:36+0000',\n",
       "  'id': '427814738066052_273246483522879',\n",
       "  'message': 'bored .. ? 🙀\\nnuts ...! \\U0001f95c\\U0001f95c\\U0001f95c🐿️ @ Mysore, Karnataka'},\n",
       " {'created_time': '2018-09-23T07:01:05+0000',\n",
       "  'id': '427814738066052_273222250191969'},\n",
       " {'created_time': '2018-09-22T06:00:13+0000',\n",
       "  'id': '427814738066052_272677846913076',\n",
       "  'message': 'Sure af !!'},\n",
       " {'created_time': '2018-09-18T15:46:05+0000',\n",
       "  'id': '427814738066052_270878667092994'},\n",
       " {'created_time': '2018-09-14T19:22:07+0000',\n",
       "  'id': '427814738066052_268846103962917',\n",
       "  'message': '😂😂😂'},\n",
       " {'created_time': '2018-09-01T03:37:51+0000',\n",
       "  'id': '427814738066052_260895364757991'}]"
      ]
     },
     "execution_count": 66,
     "metadata": {},
     "output_type": "execute_result"
    }
   ],
   "source": [
    "post_list\n"
   ]
  },
  {
   "cell_type": "code",
   "execution_count": 67,
   "metadata": {},
   "outputs": [
    {
     "data": {
      "text/plain": [
       "dict"
      ]
     },
     "execution_count": 67,
     "metadata": {},
     "output_type": "execute_result"
    }
   ],
   "source": [
    "type(post_list[0])"
   ]
  },
  {
   "cell_type": "code",
   "execution_count": 71,
   "metadata": {},
   "outputs": [
    {
     "data": {
      "text/plain": [
       "'Samsung SSD\\n#PCAgeCalculator'"
      ]
     },
     "execution_count": 71,
     "metadata": {},
     "output_type": "execute_result"
    }
   ],
   "source": [
    "post_list[0]['message']"
   ]
  },
  {
   "cell_type": "code",
   "execution_count": 82,
   "metadata": {},
   "outputs": [],
   "source": [
    "def textOf(node):\n",
    "    \"\"\"extracts and returns the text available in the passed object\"\"\"\n",
    "    key = \"message\"\n",
    "    if key in node:\n",
    "        return node[key]\n",
    "    return \"\""
   ]
  },
  {
   "cell_type": "code",
   "execution_count": 83,
   "metadata": {},
   "outputs": [
    {
     "data": {
      "text/plain": [
       "\"well both ! 🤔\\nwhen you are exited for the money 🤑🤑you don't have \\nwhich makes you anxious !! 😂😂\""
      ]
     },
     "execution_count": 83,
     "metadata": {},
     "output_type": "execute_result"
    }
   ],
   "source": [
    "textOf(post_list[3])"
   ]
  },
  {
   "cell_type": "code",
   "execution_count": 84,
   "metadata": {},
   "outputs": [
    {
     "name": "stdout",
     "output_type": "stream",
     "text": [
      "Samsung SSD\n",
      "#PCAgeCalculator\n",
      "made my day ..... !\n",
      "\n",
      "well both ! 🤔\n",
      "when you are exited for the money 🤑🤑you don't have \n",
      "which makes you anxious !! 😂😂\n",
      "\n",
      "this video wants to be seen guys !\n",
      "Well this is great !!!\n",
      "\n",
      "this is hilarious !! 😃😃\n",
      "\n",
      "\n",
      "\n",
      "\n",
      "\n",
      "\n",
      "\n",
      "\n",
      "\n",
      "\n",
      "bored .. ? 🙀\n",
      "nuts ...! 🥜🥜🥜🐿️ @ Mysore, Karnataka\n",
      "\n",
      "Sure af !!\n",
      "\n",
      "😂😂😂\n",
      "\n"
     ]
    }
   ],
   "source": [
    "for i in post_list:\n",
    "    print(textOf(i))"
   ]
  },
  {
   "cell_type": "code",
   "execution_count": 90,
   "metadata": {},
   "outputs": [],
   "source": [
    "watsonInput = open(r\"watsonInput\",\"a+\")"
   ]
  },
  {
   "cell_type": "code",
   "execution_count": 91,
   "metadata": {},
   "outputs": [],
   "source": [
    "for post in post_list:\n",
    "    watsonInput.write(textOf(post))"
   ]
  },
  {
   "cell_type": "code",
   "execution_count": 92,
   "metadata": {},
   "outputs": [],
   "source": [
    "watsonInput.close()"
   ]
  },
  {
   "cell_type": "code",
   "execution_count": 94,
   "metadata": {},
   "outputs": [],
   "source": [
    "import requests\n",
    "import json\n",
    "accToken = \"EAAQIgVzxxvsBAA0nCQZArJoyGCe6aQJ5nAUZBy52tMzY33ZAfgBgI3ub2sH17kRUARa6hQkZAOM1awNk125EThKtQkjSHjdMVZBM6fKURWn8Q2ZCaPfX1TqOKEQ399mi3a88joV9wXzIFijFFZAXJTVC1MjYBVCHZB5kkVNxMAiGOdf0roZBbWT9ukTltmqyatRkZD\"\n",
    "\n",
    "def textOf(node):\n",
    "    \"\"\"extracts and returns the text available in the passed object\"\"\"\n",
    "    key = \"message\"\n",
    "    if key in node:\n",
    "        return node[key]\n",
    "    return \"\"\n",
    "\n",
    "def textOfPost():\n",
    "    \"\"\"collects texts from personal posts and records for watsonInput\"\"\"\n",
    "    postUrl = \"https://graph.facebook.com/v3.3/me?fields=posts&access_token=\" + acc_token\n",
    "    postResp = requests.get(postUrl)\n",
    "    postDict = json.loads(postResp.text)\n",
    "    post_list = postDict['posts']['data']\n",
    "        ##open watsonInput file\n",
    "    watsonInput = open(r\"watsonInput\",\"a+\")\n",
    "    for post in post_list:\n",
    "        watsonInput.write(textOf(post))\n"
   ]
  },
  {
   "cell_type": "code",
   "execution_count": null,
   "metadata": {},
   "outputs": [],
   "source": []
  }
 ],
 "metadata": {
  "kernelspec": {
   "display_name": "Python 3",
   "language": "python",
   "name": "python3"
  },
  "language_info": {
   "codemirror_mode": {
    "name": "ipython",
    "version": 3
   },
   "file_extension": ".py",
   "mimetype": "text/x-python",
   "name": "python",
   "nbconvert_exporter": "python",
   "pygments_lexer": "ipython3",
   "version": "3.5.3"
  }
 },
 "nbformat": 4,
 "nbformat_minor": 2
}
